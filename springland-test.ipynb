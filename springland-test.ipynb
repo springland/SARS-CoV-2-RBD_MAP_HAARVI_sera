{
 "cells": [
  {
   "cell_type": "code",
   "execution_count": 10,
   "id": "b2331bb1",
   "metadata": {},
   "outputs": [],
   "source": [
    "import io\n",
    "import lzma\n",
    "import os\n",
    "import re\n",
    "import subprocess\n",
    "\n",
    "from Bio.Data.IUPACData import protein_letters\n",
    "import Bio.SeqIO\n",
    "\n",
    "from IPython.display import display, HTML\n",
    "\n",
    "import matplotlib.pyplot as plt\n",
    "\n",
    "import pandas as pd\n",
    "\n",
    "from plotnine import *\n",
    "\n",
    "import yaml"
   ]
  },
  {
   "cell_type": "code",
   "execution_count": 11,
   "id": "fd448ac2",
   "metadata": {},
   "outputs": [],
   "source": [
    "with open('config.yaml') as f:\n",
    "    config = yaml.safe_load(f)"
   ]
  },
  {
   "cell_type": "code",
   "execution_count": 12,
   "id": "293727ea",
   "metadata": {},
   "outputs": [],
   "source": [
    "os.makedirs(config['gisaid_mutations_dir'], exist_ok=True)"
   ]
  },
  {
   "cell_type": "code",
   "execution_count": 13,
   "id": "8e70385c",
   "metadata": {},
   "outputs": [],
   "source": [
    "#spikes = list(Bio.SeqIO.parse('data/spike_test.fasta', 'fasta')) \n",
    "spikes = list(Bio.SeqIO.parse('data/spikenuc0523/spikenuc0523_1.fasta', 'fasta')) "
   ]
  },
  {
   "cell_type": "code",
   "execution_count": 14,
   "id": "9a8631db",
   "metadata": {},
   "outputs": [
    {
     "name": "stdout",
     "output_type": "stream",
     "text": [
      "Read 25000 spike sequences.\n"
     ]
    }
   ],
   "source": [
    "print(f\"Read {len(spikes)} spike sequences.\")"
   ]
  },
  {
   "cell_type": "code",
   "execution_count": 15,
   "id": "75927724",
   "metadata": {},
   "outputs": [],
   "source": [
    "spikes_df = (\n",
    "    pd.DataFrame({'seqrecord': spikes})\n",
    "    .assign(description=lambda x: x['seqrecord'].map(lambda rec: rec.description),\n",
    "            country=lambda x: x['description'].str.split('|').str[-1],\n",
    "            host=lambda x: x['description'].str.split('|').str[6].str.strip(),\n",
    "            length=lambda x: x['seqrecord'].map(len),\n",
    "            n_ambiguous=lambda x: x['seqrecord'].map(lambda rec: rec.seq.count('X') + rec.seq.count('x')),\n",
    "            )\n",
    "    )"
   ]
  },
  {
   "cell_type": "code",
   "execution_count": 16,
   "id": "ff848a3d",
   "metadata": {},
   "outputs": [],
   "source": [
    "#spikes_df =pd.DataFrame({'seqrecord': spikes}).assign(description=lambda x: x['seqrecord'].map(lambda rec: rec.description),\n",
    "#                                              country=lambda x: x['description'].str.split('/').str[1],\n",
    "#                                               host='Human', #lambda x: x['description'].str.split('/').str[0].str.strip(),\n",
    "#                                               length=lambda x: x['seqrecord'].map(len),\n",
    "#                                              n_ambiguous=lambda x: x['seqrecord'].map(lambda rec: rec.seq.count('X') + rec.seq.count('x')))"
   ]
  },
  {
   "cell_type": "code",
   "execution_count": 22,
   "id": "4a462c33",
   "metadata": {},
   "outputs": [
    {
     "data": {
      "text/plain": [
       "count    25000.000000\n",
       "mean      3817.815600\n",
       "std         69.109642\n",
       "min        183.000000\n",
       "25%       3813.000000\n",
       "50%       3822.000000\n",
       "75%       3822.000000\n",
       "max       3831.000000\n",
       "Name: length, dtype: float64"
      ]
     },
     "execution_count": 22,
     "metadata": {},
     "output_type": "execute_result"
    }
   ],
   "source": [
    "spikes_df['length'].describe()\n"
   ]
  },
  {
   "cell_type": "code",
   "execution_count": 25,
   "id": "90207fb9",
   "metadata": {},
   "outputs": [
    {
     "name": "stdout",
     "output_type": "stream",
     "text": [
      "Distribution of length for all spikes:\n"
     ]
    },
    {
     "data": {
      "image/png": "[encoded data removed]",
      "text/plain": [
       "<Figure size 1000x200 with 1 Axes>"
      ]
     },
     "metadata": {},
     "output_type": "display_data"
    },
    {
     "name": "stdout",
     "output_type": "stream",
     "text": [
      "\n",
      "Only keeping spikes with lengths between 3800 and 3900\n",
      "Here are number of sequences with valid and invalid lengths:\n"
     ]
    },
    {
     "data": {
      "text/html": [
       "<table border=\"1\" class=\"dataframe\">\n",
       "  <thead>\n",
       "    <tr style=\"text-align: right;\">\n",
       "      <th></th>\n",
       "      <th>n_sequences</th>\n",
       "    </tr>\n",
       "    <tr>\n",
       "      <th>valid_length</th>\n",
       "      <th></th>\n",
       "    </tr>\n",
       "  </thead>\n",
       "  <tbody>\n",
       "    <tr>\n",
       "      <th>True</th>\n",
       "      <td>24987</td>\n",
       "    </tr>\n",
       "  </tbody>\n",
       "</table>"
      ],
      "text/plain": [
       "<IPython.core.display.HTML object>"
      ]
     },
     "metadata": {},
     "output_type": "display_data"
    },
    {
     "name": "stdout",
     "output_type": "stream",
     "text": [
      "\n",
      "Distribution of lengths for sequences with valid and invalid lengths; dotted red lines delimit valid lengths:\n"
     ]
    },
    {
     "name": "stderr",
     "output_type": "stream",
     "text": [
      "C:\\Users\\fengl\\AppData\\Roaming\\Python\\Python39\\site-packages\\plotnine\\utils.py:371: FutureWarning: The frame.append method is deprecated and will be removed from pandas in a future version. Use pandas.concat instead.\n",
      "C:\\Users\\fengl\\AppData\\Roaming\\Python\\Python39\\site-packages\\plotnine\\facets\\facet.py:487: FutureWarning: Passing a set as an indexer is deprecated and will raise in a future version. Use a list instead.\n",
      "C:\\Users\\fengl\\AppData\\Roaming\\Python\\Python39\\site-packages\\plotnine\\utils.py:371: FutureWarning: The frame.append method is deprecated and will be removed from pandas in a future version. Use pandas.concat instead.\n",
      "C:\\Users\\fengl\\AppData\\Roaming\\Python\\Python39\\site-packages\\plotnine\\facets\\facet.py:487: FutureWarning: Passing a set as an indexer is deprecated and will raise in a future version. Use a list instead.\n",
      "C:\\Users\\fengl\\AppData\\Roaming\\Python\\Python39\\site-packages\\plotnine\\utils.py:371: FutureWarning: The frame.append method is deprecated and will be removed from pandas in a future version. Use pandas.concat instead.\n"
     ]
    },
    {
     "data": {
      "image/png": "[encoded data removed]",
      "text/plain": [
       "<Figure size 1000x200 with 1 Axes>"
      ]
     },
     "metadata": {},
     "output_type": "display_data"
    }
   ],
   "source": [
    "print('Distribution of length for all spikes:')\n",
    "p = (ggplot(spikes_df) +\n",
    "     aes('length') +\n",
    "     geom_bar() +\n",
    "     ylab('number of sequences') +\n",
    "     theme(figure_size=(10, 2))\n",
    "     )\n",
    "fig = p.draw()\n",
    "display(fig)\n",
    "plt.close(fig)\n",
    "\n",
    "#min_length, max_length = 1260, 1276\n",
    "min_length, max_length = 3800, 3900\n",
    "print(f\"\\nOnly keeping spikes with lengths between {min_length} and {max_length}\")\n",
    "spikes_df = (\n",
    "    spikes_df\n",
    "    .assign(valid_length=lambda x: (min_length <= x['length']) & (x['length'] <= max_length))\n",
    "    )\n",
    "\n",
    "print('Here are number of sequences with valid and invalid lengths:')\n",
    "display(HTML(spikes_df\n",
    "             .groupby('valid_length')\n",
    "             .aggregate(n_sequences=pd.NamedAgg('seqrecord', 'count'))\n",
    "             .to_html()\n",
    "             ))\n",
    "\n",
    "print('\\nDistribution of lengths for sequences with valid and invalid lengths; '\n",
    "      'dotted red lines delimit valid lengths:')\n",
    "p = (ggplot(spikes_df\n",
    "            .assign(valid_length=lambda x: x['valid_length'].map({True: 'valid length',\n",
    "                                                                  False: 'invalid length'}))\n",
    "            ) +\n",
    "     aes('length') +\n",
    "     geom_bar() +\n",
    "     ylab('number of sequences') +\n",
    "     theme(figure_size=(10, 2), subplots_adjust={'wspace': 0.2}) +\n",
    "     facet_wrap('~ valid_length', scales='free') +\n",
    "     geom_vline(xintercept=min_length - 0.5, color='red', linetype='dotted') +\n",
    "     geom_vline(xintercept=max_length + 0.5, color='red', linetype='dotted')\n",
    "     )\n",
    "fig = p.draw()\n",
    "display(fig)\n",
    "plt.close(fig)\n",
    "\n",
    "spikes_df = spikes_df.query('valid_length')"
   ]
  },
  {
   "cell_type": "code",
   "execution_count": 26,
   "id": "c570e5be",
   "metadata": {},
   "outputs": [
    {
     "name": "stdout",
     "output_type": "stream",
     "text": [
      "Filtering sequences with > 100 ambiguous residues\n"
     ]
    },
    {
     "data": {
      "text/html": [
       "<table border=\"1\" class=\"dataframe\">\n",
       "  <thead>\n",
       "    <tr style=\"text-align: right;\">\n",
       "      <th></th>\n",
       "      <th>n_sequences</th>\n",
       "    </tr>\n",
       "    <tr>\n",
       "      <th>excess_ambiguous</th>\n",
       "      <th></th>\n",
       "    </tr>\n",
       "  </thead>\n",
       "  <tbody>\n",
       "    <tr>\n",
       "      <th>False</th>\n",
       "      <td>24987</td>\n",
       "    </tr>\n",
       "  </tbody>\n",
       "</table>"
      ],
      "text/plain": [
       "<IPython.core.display.HTML object>"
      ]
     },
     "metadata": {},
     "output_type": "display_data"
    }
   ],
   "source": [
    "max_ambiguous = 100\n",
    "print(f\"Filtering sequences with > {max_ambiguous} ambiguous residues\")\n",
    "spikes_df = (\n",
    "    spikes_df\n",
    "    .assign(excess_ambiguous=lambda x: x['n_ambiguous'] > max_ambiguous)\n",
    "    )\n",
    "display(HTML(\n",
    "    spikes_df\n",
    "    .groupby('excess_ambiguous')\n",
    "    .aggregate(n_sequences=pd.NamedAgg('seqrecord', 'count'))\n",
    "    .to_html()\n",
    "    ))\n"
   ]
  },
  {
   "cell_type": "code",
   "execution_count": 31,
   "id": "3503055c",
   "metadata": {},
   "outputs": [
    {
     "name": "stdout",
     "output_type": "stream",
     "text": [
      "Reading reference nucleotide sequence in data/wildtype_sequence.fasta\n",
      "Writing protein translation of reference sequence to results/GISAID_mutations\\reference_RBD.fasta\n"
     ]
    }
   ],
   "source": [
    "print(f\"Reading reference nucleotide sequence in {config['wildtype_sequence']}\")\n",
    "refseq = Bio.SeqIO.read(config['wildtype_sequence'], 'fasta')\n",
    "\n",
    "refprotfile = os.path.join(config['gisaid_mutations_dir'], 'reference_RBD.fasta')\n",
    "print(f\"Writing protein translation of reference sequence to {refprotfile}\")\n",
    "#refseq.seq = refseq.seq.translate()\n",
    "_ = Bio.SeqIO.write(refseq, refprotfile, 'fasta')"
   ]
  },
  {
   "cell_type": "code",
   "execution_count": 32,
   "id": "a9540846",
   "metadata": {},
   "outputs": [
    {
     "name": "stdout",
     "output_type": "stream",
     "text": [
      "Writing the spikes to results/GISAID_mutations\\human_full-length_spikes.fasta\n"
     ]
    }
   ],
   "source": [
    "spikes_file = os.path.join(config['gisaid_mutations_dir'],\n",
    "                           'human_full-length_spikes.fasta')\n",
    "print(f\"Writing the spikes to {spikes_file}\")\n",
    "_ = Bio.SeqIO.write(spikes_df['seqrecord'].tolist(), spikes_file, 'fasta')"
   ]
  },
  {
   "cell_type": "code",
   "execution_count": 39,
   "id": "627015b5",
   "metadata": {},
   "outputs": [
    {
     "name": "stdout",
     "output_type": "stream",
     "text": [
      "AATATCACGAACCTTTGTCCTTTCGGTGAGGTCTTCAATGCTACTAGATTCGCATCCGTGTATGCATGGAATAGAAAGAGAATTAGTAATTGTGTAGCGGACTACTCTGTACTTTATAACTCCGCCTCCTTCTCCACATTCAAGTGTTACGGTGTATCTCCCACCAAGTTGAATGATCTATGCTTTACAAACGTTTACGCCGATAGTTTCGTAATTAGAGGCGATGAAGTGCGTCAGATCGCACCAGGCCAGACGGGCAAGATAGCAGACTATAATTATAAGCTGCCTGATGACTTCACCGGCTGTGTGATAGCTTGGAACTCAAATAATCTAGATTCCAAGGTGGGAGGCAATTACAATTATTTGTACCGTCTGTTCCGTAAAAGCAATTTGAAACCATTTGAAAGAGACATTAGCACTGAAATTTATCAAGCAGGGTCCACCCCGTGCAACGGCGTAGAAGGCTTTAACTGTTATTTCCCATTACAGTCTTATGGTTTCCAACCTACGAACGGAGTCGGGTATCAGCCGTACAGGGTTGTGGTTCTTTCATTTGAACTGCTGCACGCGCCCGCAACCGTATGCGGGCCGAAGAAATCAACG\n",
      "SARS-CoV-2\n"
     ]
    },
    {
     "data": {
      "text/plain": [
       "Bio.Seq.Seq"
      ]
     },
     "execution_count": 39,
     "metadata": {},
     "output_type": "execute_result"
    }
   ],
   "source": [
    "print(refseq.seq)\n",
    "print(refseq.description)\n",
    "type(refseq.seq)"
   ]
  },
  {
   "cell_type": "code",
   "execution_count": 52,
   "id": "3818d29e",
   "metadata": {},
   "outputs": [
    {
     "name": "stdout",
     "output_type": "stream",
     "text": [
      "Writing spikes 1 to 50000 to results/GISAID_mutations\\human_full-length_spikes_1-to-50000.fasta\n",
      "Now aligning these sequences...\n",
      "Alignment complete.\n",
      "\n",
      "AATATCACGAACCTTTGTCCTTTCGGTGAGGTCTTCAATGCTACTAGATTCGCATCCGTGTATGCATGGAATAGAAAGAGAATTAGTAATTGTGTAGCGGACTACTCTGTACTTTATAACTCCGCCTCCTTCTCCACATTCAAGTGTTACGGTGTATCTCCCACCAAGTTGAATGATCTATGCTTTACAAACGTTTACGCCGATAGTTTCGTAATTAGAGGCGATGAAGTGCGTCAGATCGCACCAGGCCAGACGGGCAAGATAGCAGACTATAATTATAAGCTGCCTGATGACTTCACCGGCTGTGTGATAGCTTGGAACTCAAATAATCTAGATTCCAAGGTGGGAGGCAATTACAATTATTTGTACCGTCTGTTCCGTAAAAGCAATTTGAAACCATTTGAAAGAGACATTAGCACTGAAATTTATCAAGCAGGGTCCACCCCGTGCAACGGCGTAGAAGGCTTTAACTGTTATTTCCCATTACAGTCTTATGGTTTCCAACCTACGAACGGAGTCGGGTATCAGCCGTACAGGGTTGTGGTTCTTTCATTTGAACTGCTGCACGCGCCCGCAACCGTATGCGGGCCGAAGAAATCAACG\n",
      "SARS-CoV-2\n"
     ]
    }
   ],
   "source": [
    "chunksize = 50000\n",
    "\n",
    "aligned_rbds = []\n",
    "\n",
    "for i in range(0, len(spikes_df), chunksize):\n",
    "    spikes_file = os.path.join(config['gisaid_mutations_dir'],\n",
    "                               f\"human_full-length_spikes_{i + 1}-to-{i + chunksize}.fasta\")\n",
    "    print(f\"Writing spikes {i + 1} to {i + chunksize} to {spikes_file}\")\n",
    "    _ = Bio.SeqIO.write(spikes_df['seqrecord'].tolist()[i: i + chunksize], spikes_file, 'fasta')\n",
    "    print('Now aligning these sequences...')\n",
    "    #cmds = ['mafft', '--auto', '--thread', str(config['max_cpus']),\n",
    "    #        '--keeplength', '--addfragments', spikes_file, refprotfile]\n",
    "\n",
    "    cmds = ['D:\\mafft-win\\mafft.bat', '--auto', '--thread', '-1',\n",
    "            '--keeplength', '--addfragments', spikes_file, refprotfile]\n",
    "\n",
    "    res = subprocess.run(cmds, capture_output=True)\n",
    "    if res.returncode:\n",
    "        raise RuntimeError(f\"Error in alignment:\\n{res.stderr}\")\n",
    "    else:\n",
    "        print('Alignment complete.\\n')\n",
    "        with io.StringIO(res.stdout.decode('utf-8')) as f:\n",
    "            iseqs = list(Bio.SeqIO.parse(f, 'fasta'))\n",
    "            \n",
    "            # What mafft created are all lowercase sequence\n",
    "            for iseq in iseqs:\n",
    "                iseq.seq = iseq.seq.upper()\n",
    "    \n",
    "            # remove reference sequence, which should be first in file\n",
    "            print(iseqs[0].seq)\n",
    "            print(iseqs[0].description)\n",
    "            assert iseqs[0].seq == refseq.seq and iseqs[0].description == refseq.description\n",
    "            iseqs = iseqs[1:]\n",
    "            assert len(iseqs) == min(chunksize, len(spikes_df) - i)\n",
    "            aligned_rbds += iseqs\n",
    "            \n",
    "assert len(aligned_rbds) == len(spikes_df)"
   ]
  },
  {
   "cell_type": "code",
   "execution_count": 92,
   "id": "22113629",
   "metadata": {},
   "outputs": [],
   "source": [
    "rbd_df = (\n",
    "    pd.DataFrame({'seqrecord': aligned_rbds})\n",
    "    .assign(description=lambda x: x['seqrecord'].map(lambda rec: rec.description),\n",
    "            country=lambda x: x['description'].str.split('|').str[-1],\n",
    "            host=lambda x: x['description'].str.split('|').str[6].str.strip(),\n",
    "            length=lambda x: x['seqrecord'].map(len),\n",
    "            n_ambiguous=lambda x: x['seqrecord'].map(lambda rec: rec.seq.count('X') + rec.seq.count('x')),\n",
    "            n_gaps=lambda x: x['seqrecord'].map(lambda rec: rec.seq.count('-')),\n",
    "            all_valid_aas=lambda x: x['seqrecord'].map(lambda rec: re.fullmatch(f\"[{protein_letters}]+\",\n",
    "                                                                                str(rec.seq)) is not None),\n",
    "            )\n",
    "    )\n",
    "\n",
    "assert all(rbd_df['length'] == len(refseq))"
   ]
  },
  {
   "cell_type": "code",
   "execution_count": 93,
   "id": "1cb69b01",
   "metadata": {},
   "outputs": [
    {
     "data": {
      "image/png": "[encoded data removed]",
      "text/plain": [
       "<Figure size 1000x250 with 1 Axes>"
      ]
     },
     "metadata": {},
     "output_type": "display_data"
    },
    {
     "data": {
      "image/png": "[encoded data removed]",
      "text/plain": [
       "<Figure size 1000x250 with 1 Axes>"
      ]
     },
     "metadata": {},
     "output_type": "display_data"
    }
   ],
   "source": [
    "for prop in ['n_ambiguous', 'n_gaps']:\n",
    "    p = (ggplot(rbd_df) +\n",
    "         aes(prop) +\n",
    "         ylab('number of sequences') +\n",
    "         theme(figure_size=(10, 2.5)) +\n",
    "         geom_bar()\n",
    "         )\n",
    "    _ = p.draw()"
   ]
  },
  {
   "cell_type": "code",
   "execution_count": 94,
   "id": "5d371e67",
   "metadata": {},
   "outputs": [
    {
     "data": {
      "text/plain": [
       "'ACDEFGHIKLMNPQRSTVWY'"
      ]
     },
     "execution_count": 94,
     "metadata": {},
     "output_type": "execute_result"
    }
   ],
   "source": [
    "protein_letters\n",
    "\n"
   ]
  },
  {
   "cell_type": "code",
   "execution_count": 95,
   "id": "c698e47f",
   "metadata": {},
   "outputs": [
    {
     "name": "stdout",
     "output_type": "stream",
     "text": [
      "Retained 24944 RBDs.\n"
     ]
    }
   ],
   "source": [
    "rbd_df = rbd_df.query('n_ambiguous == 0').query('n_gaps == 0')\n",
    "assert rbd_df['all_valid_aas'].all()\n",
    "print(f\"Retained {len(rbd_df)} RBDs.\")"
   ]
  },
  {
   "cell_type": "code",
   "execution_count": 96,
   "id": "631b3e74",
   "metadata": {},
   "outputs": [
    {
     "data": {
      "text/html": [
       "<div>\n",
       "<style scoped>\n",
       "    .dataframe tbody tr th:only-of-type {\n",
       "        vertical-align: middle;\n",
       "    }\n",
       "\n",
       "    .dataframe tbody tr th {\n",
       "        vertical-align: top;\n",
       "    }\n",
       "\n",
       "    .dataframe thead th {\n",
       "        text-align: right;\n",
       "    }\n",
       "</style>\n",
       "<table border=\"1\" class=\"dataframe\">\n",
       "  <thead>\n",
       "    <tr style=\"text-align: right;\">\n",
       "      <th></th>\n",
       "      <th>seqrecord</th>\n",
       "      <th>description</th>\n",
       "      <th>country</th>\n",
       "      <th>host</th>\n",
       "      <th>length</th>\n",
       "      <th>n_ambiguous</th>\n",
       "      <th>n_gaps</th>\n",
       "      <th>all_valid_aas</th>\n",
       "    </tr>\n",
       "  </thead>\n",
       "  <tbody>\n",
       "    <tr>\n",
       "      <th>0</th>\n",
       "      <td>(A, A, T, A, T, T, A, C, A, A, A, C, T, T, G, ...</td>\n",
       "      <td>Spike|hCoV-19/Wuhan/WIV04/2019|2019-12-30|EPI_...</td>\n",
       "      <td>China</td>\n",
       "      <td>Human</td>\n",
       "      <td>603</td>\n",
       "      <td>0</td>\n",
       "      <td>0</td>\n",
       "      <td>True</td>\n",
       "    </tr>\n",
       "    <tr>\n",
       "      <th>1</th>\n",
       "      <td>(A, A, T, A, T, T, A, C, A, A, A, C, T, T, G, ...</td>\n",
       "      <td>Spike|hCoV-19/Spain/CN-IBV-97016118/2021|2021-...</td>\n",
       "      <td>Canary Islands</td>\n",
       "      <td>Human</td>\n",
       "      <td>603</td>\n",
       "      <td>0</td>\n",
       "      <td>0</td>\n",
       "      <td>True</td>\n",
       "    </tr>\n",
       "    <tr>\n",
       "      <th>2</th>\n",
       "      <td>(A, A, T, A, T, T, A, C, A, A, A, C, T, T, G, ...</td>\n",
       "      <td>Spike|hCoV-19/France/HDF-IPP02628/2021|2021-01...</td>\n",
       "      <td>France</td>\n",
       "      <td>Human</td>\n",
       "      <td>603</td>\n",
       "      <td>0</td>\n",
       "      <td>0</td>\n",
       "      <td>True</td>\n",
       "    </tr>\n",
       "    <tr>\n",
       "      <th>3</th>\n",
       "      <td>(A, A, T, A, T, T, A, C, A, A, A, C, T, T, G, ...</td>\n",
       "      <td>Spike|hCoV-19/Switzerland/SO-ETHZ-460715/2021|...</td>\n",
       "      <td>Switzerland</td>\n",
       "      <td>Human</td>\n",
       "      <td>603</td>\n",
       "      <td>0</td>\n",
       "      <td>0</td>\n",
       "      <td>True</td>\n",
       "    </tr>\n",
       "    <tr>\n",
       "      <th>4</th>\n",
       "      <td>(A, A, T, A, T, T, A, C, A, A, A, C, T, T, G, ...</td>\n",
       "      <td>Spike|hCoV-19/Switzerland/JU-ETHZ-470314/2021|...</td>\n",
       "      <td>Switzerland</td>\n",
       "      <td>Human</td>\n",
       "      <td>603</td>\n",
       "      <td>0</td>\n",
       "      <td>0</td>\n",
       "      <td>True</td>\n",
       "    </tr>\n",
       "    <tr>\n",
       "      <th>...</th>\n",
       "      <td>...</td>\n",
       "      <td>...</td>\n",
       "      <td>...</td>\n",
       "      <td>...</td>\n",
       "      <td>...</td>\n",
       "      <td>...</td>\n",
       "      <td>...</td>\n",
       "      <td>...</td>\n",
       "    </tr>\n",
       "    <tr>\n",
       "      <th>24982</th>\n",
       "      <td>(A, A, T, A, T, T, A, C, A, A, A, C, T, T, G, ...</td>\n",
       "      <td>Spike|hCoV-19/Denmark/DCGC-44158/2021|2021-02-...</td>\n",
       "      <td>Denmark</td>\n",
       "      <td>Human</td>\n",
       "      <td>603</td>\n",
       "      <td>0</td>\n",
       "      <td>0</td>\n",
       "      <td>True</td>\n",
       "    </tr>\n",
       "    <tr>\n",
       "      <th>24983</th>\n",
       "      <td>(A, A, T, A, T, T, A, C, A, A, A, C, T, T, G, ...</td>\n",
       "      <td>Spike|hCoV-19/Japan/TKYN00044/2020|2020-11-00|...</td>\n",
       "      <td>Japan</td>\n",
       "      <td>Human</td>\n",
       "      <td>603</td>\n",
       "      <td>0</td>\n",
       "      <td>0</td>\n",
       "      <td>True</td>\n",
       "    </tr>\n",
       "    <tr>\n",
       "      <th>24984</th>\n",
       "      <td>(A, A, T, A, T, T, A, C, A, A, A, C, T, T, G, ...</td>\n",
       "      <td>Spike|hCoV-19/England/MILK-12619A3/2021|2021-0...</td>\n",
       "      <td>United Kingdom</td>\n",
       "      <td>Human</td>\n",
       "      <td>603</td>\n",
       "      <td>0</td>\n",
       "      <td>0</td>\n",
       "      <td>True</td>\n",
       "    </tr>\n",
       "    <tr>\n",
       "      <th>24985</th>\n",
       "      <td>(A, A, T, A, T, T, A, C, A, A, A, C, T, T, G, ...</td>\n",
       "      <td>Spike|hCoV-19/Denmark/DCGC-43520/2021|2021-02-...</td>\n",
       "      <td>Denmark</td>\n",
       "      <td>Human</td>\n",
       "      <td>603</td>\n",
       "      <td>0</td>\n",
       "      <td>0</td>\n",
       "      <td>True</td>\n",
       "    </tr>\n",
       "    <tr>\n",
       "      <th>24986</th>\n",
       "      <td>(A, A, T, A, T, T, A, C, A, A, A, C, T, T, G, ...</td>\n",
       "      <td>Spike|hCoV-19/Slovenia/MB08-25989/2021|2021-01...</td>\n",
       "      <td>Slovenia</td>\n",
       "      <td>Human</td>\n",
       "      <td>603</td>\n",
       "      <td>0</td>\n",
       "      <td>0</td>\n",
       "      <td>True</td>\n",
       "    </tr>\n",
       "  </tbody>\n",
       "</table>\n",
       "<p>24944 rows × 8 columns</p>\n",
       "</div>"
      ],
      "text/plain": [
       "                                               seqrecord  \\\n",
       "0      (A, A, T, A, T, T, A, C, A, A, A, C, T, T, G, ...   \n",
       "1      (A, A, T, A, T, T, A, C, A, A, A, C, T, T, G, ...   \n",
       "2      (A, A, T, A, T, T, A, C, A, A, A, C, T, T, G, ...   \n",
       "3      (A, A, T, A, T, T, A, C, A, A, A, C, T, T, G, ...   \n",
       "4      (A, A, T, A, T, T, A, C, A, A, A, C, T, T, G, ...   \n",
       "...                                                  ...   \n",
       "24982  (A, A, T, A, T, T, A, C, A, A, A, C, T, T, G, ...   \n",
       "24983  (A, A, T, A, T, T, A, C, A, A, A, C, T, T, G, ...   \n",
       "24984  (A, A, T, A, T, T, A, C, A, A, A, C, T, T, G, ...   \n",
       "24985  (A, A, T, A, T, T, A, C, A, A, A, C, T, T, G, ...   \n",
       "24986  (A, A, T, A, T, T, A, C, A, A, A, C, T, T, G, ...   \n",
       "\n",
       "                                             description         country  \\\n",
       "0      Spike|hCoV-19/Wuhan/WIV04/2019|2019-12-30|EPI_...           China   \n",
       "1      Spike|hCoV-19/Spain/CN-IBV-97016118/2021|2021-...  Canary Islands   \n",
       "2      Spike|hCoV-19/France/HDF-IPP02628/2021|2021-01...          France   \n",
       "3      Spike|hCoV-19/Switzerland/SO-ETHZ-460715/2021|...     Switzerland   \n",
       "4      Spike|hCoV-19/Switzerland/JU-ETHZ-470314/2021|...     Switzerland   \n",
       "...                                                  ...             ...   \n",
       "24982  Spike|hCoV-19/Denmark/DCGC-44158/2021|2021-02-...         Denmark   \n",
       "24983  Spike|hCoV-19/Japan/TKYN00044/2020|2020-11-00|...           Japan   \n",
       "24984  Spike|hCoV-19/England/MILK-12619A3/2021|2021-0...  United Kingdom   \n",
       "24985  Spike|hCoV-19/Denmark/DCGC-43520/2021|2021-02-...         Denmark   \n",
       "24986  Spike|hCoV-19/Slovenia/MB08-25989/2021|2021-01...        Slovenia   \n",
       "\n",
       "        host  length  n_ambiguous  n_gaps  all_valid_aas  \n",
       "0      Human     603            0       0           True  \n",
       "1      Human     603            0       0           True  \n",
       "2      Human     603            0       0           True  \n",
       "3      Human     603            0       0           True  \n",
       "4      Human     603            0       0           True  \n",
       "...      ...     ...          ...     ...            ...  \n",
       "24982  Human     603            0       0           True  \n",
       "24983  Human     603            0       0           True  \n",
       "24984  Human     603            0       0           True  \n",
       "24985  Human     603            0       0           True  \n",
       "24986  Human     603            0       0           True  \n",
       "\n",
       "[24944 rows x 8 columns]"
      ]
     },
     "execution_count": 96,
     "metadata": {},
     "output_type": "execute_result"
    }
   ],
   "source": [
    "rbd_df"
   ]
  },
  {
   "cell_type": "code",
   "execution_count": 100,
   "id": "ea3e84ed",
   "metadata": {},
   "outputs": [
    {
     "data": {
      "image/png": "[encoded data removed]",
      "text/plain": [
       "<Figure size 1000x250 with 1 Axes>"
      ]
     },
     "metadata": {},
     "output_type": "display_data"
    },
    {
     "data": {
      "image/png": "[encoded data removed]",
      "text/plain": [
       "<Figure size 1000x250 with 1 Axes>"
      ]
     },
     "metadata": {},
     "output_type": "display_data"
    }
   ],
   "source": [
    "max_muts = 8\n",
    "\n",
    "refseq_str = str(refseq.seq)\n",
    "rbd_df = (\n",
    "    rbd_df\n",
    "    .assign(seq=lambda x: x['seqrecord'].map(lambda rec: str(rec.seq)),\n",
    "            n_mutations=lambda x: x['seq'].map(lambda s: sum(x != y for x, y in zip(s, refseq_str))))\n",
    "    )\n",
    "\n",
    "p = (ggplot(rbd_df) +\n",
    "     aes('n_mutations') +\n",
    "     geom_bar() +\n",
    "     theme(figure_size=(10, 2.5)) +\n",
    "     geom_vline(xintercept=max_muts + 0.5, color='red', linetype='dotted')\n",
    "     )\n",
    "_ = p.draw()\n",
    "_ = (p + scale_y_log10()).draw()\n",
    "\n"
   ]
  },
  {
   "cell_type": "code",
   "execution_count": 102,
   "id": "bd1bb328",
   "metadata": {},
   "outputs": [
    {
     "name": "stdout",
     "output_type": "stream",
     "text": [
      "refseq:AATATCACGAACCTTTGTCCTTTCGGTGAGGTCTTCAATGCTACTAGATTCGCATCCGTGTATGCATGGAATAGAAAGAGAATTAGTAATTGTGTAGCGGACTACTCTGTACTTTATAACTCCGCCTCCTTCTCCACATTCAAGTGTTACGGTGTATCTCCCACCAAGTTGAATGATCTATGCTTTACAAACGTTTACGCCGATAGTTTCGTAATTAGAGGCGATGAAGTGCGTCAGATCGCACCAGGCCAGACGGGCAAGATAGCAGACTATAATTATAAGCTGCCTGATGACTTCACCGGCTGTGTGATAGCTTGGAACTCAAATAATCTAGATTCCAAGGTGGGAGGCAATTACAATTATTTGTACCGTCTGTTCCGTAAAAGCAATTTGAAACCATTTGAAAGAGACATTAGCACTGAAATTTATCAAGCAGGGTCCACCCCGTGCAACGGCGTAGAAGGCTTTAACTGTTATTTCCCATTACAGTCTTATGGTTTCCAACCTACGAACGGAGTCGGGTATCAGCCGTACAGGGTTGTGGTTCTTTCATTTGAACTGCTGCACGCGCCCGCAACCGTATGCGGGCCGAAGAAATCAACG\n",
      " first record seq:AATATTACAAACTTGTGCCCTTTTGGTGAAGTTTTTAACGCCACCAGATTTGCATCTGTTTATGCTTGGAACAGGAAGAGAATCAGCAACTGTGTTGCTGATTATTCTGTCCTATATAATTCCGCATCATTTTCCACTTTTAAGTGTTATGGAGTGTCTCCTACTAAATTAAATGATCTCTGCTTTACTAATGTCTATGCAGATTCATTTGTAATTAGAGGTGATGAAGTCAGACAAATCGCTCCAGGGCAAACTGGAAAGATTGCTGATTATAATTATAAATTACCAGATGATTTTACAGGCTGCGTTATAGCTTGGAATTCTAACAATCTTGATTCTAAGGTTGGTGGTAATTATAATTACCTGTATAGATTGTTTAGGAAGTCTAATCTCAAACCTTTTGAGAGAGATATTTCAACTGAAATCTATCAGGCCGGTAGCACACCTTGTAATGGTGTTGAAGGTTTTAATTGTTACTTTCCTTTACAATCATATGGTTTCCAACCCACTAATGGTGTTGGTTACCAACCATACAGAGTAGTAGTACTTTCTTTTGAACTTCTACATGCACCAGCAACTGTTTGTGGACCTAAAAAGTCTACT\n",
      " first record n_mutations 149\n"
     ]
    }
   ],
   "source": [
    "print('refseq:' + refseq_str)\n",
    "\n",
    "\n",
    "\n",
    "print(' first record seq:'+ rbd_df.iloc[0]['seq'])\n",
    "print(' first record n_mutations ' + str(rbd_df.iloc[0]['n_mutations']))"
   ]
  },
  {
   "cell_type": "code",
   "execution_count": 103,
   "id": "d1db0163",
   "metadata": {},
   "outputs": [
    {
     "data": {
      "text/plain": [
       "count    24944.000000\n",
       "mean       158.093690\n",
       "std         33.829084\n",
       "min        147.000000\n",
       "25%        149.000000\n",
       "50%        150.000000\n",
       "75%        150.000000\n",
       "max        504.000000\n",
       "Name: n_mutations, dtype: float64"
      ]
     },
     "execution_count": 103,
     "metadata": {},
     "output_type": "execute_result"
    }
   ],
   "source": [
    "rbd_df['n_mutations'].describe()"
   ]
  },
  {
   "cell_type": "code",
   "execution_count": 104,
   "id": "acb9a71f",
   "metadata": {},
   "outputs": [],
   "source": [
    "max_muts=150\n",
    "\n",
    "rbd_df = rbd_df.query('n_mutations <= @max_muts')"
   ]
  },
  {
   "cell_type": "code",
   "execution_count": 105,
   "id": "e123616c",
   "metadata": {},
   "outputs": [
    {
     "data": {
      "text/html": [
       "<div>\n",
       "<style scoped>\n",
       "    .dataframe tbody tr th:only-of-type {\n",
       "        vertical-align: middle;\n",
       "    }\n",
       "\n",
       "    .dataframe tbody tr th {\n",
       "        vertical-align: top;\n",
       "    }\n",
       "\n",
       "    .dataframe thead th {\n",
       "        text-align: right;\n",
       "    }\n",
       "</style>\n",
       "<table border=\"1\" class=\"dataframe\">\n",
       "  <thead>\n",
       "    <tr style=\"text-align: right;\">\n",
       "      <th></th>\n",
       "      <th>seqrecord</th>\n",
       "      <th>description</th>\n",
       "      <th>country</th>\n",
       "      <th>host</th>\n",
       "      <th>length</th>\n",
       "      <th>n_ambiguous</th>\n",
       "      <th>n_gaps</th>\n",
       "      <th>all_valid_aas</th>\n",
       "      <th>seq</th>\n",
       "      <th>n_mutations</th>\n",
       "    </tr>\n",
       "  </thead>\n",
       "  <tbody>\n",
       "    <tr>\n",
       "      <th>0</th>\n",
       "      <td>(A, A, T, A, T, T, A, C, A, A, A, C, T, T, G, ...</td>\n",
       "      <td>Spike|hCoV-19/Wuhan/WIV04/2019|2019-12-30|EPI_...</td>\n",
       "      <td>China</td>\n",
       "      <td>Human</td>\n",
       "      <td>603</td>\n",
       "      <td>0</td>\n",
       "      <td>0</td>\n",
       "      <td>True</td>\n",
       "      <td>AATATTACAAACTTGTGCCCTTTTGGTGAAGTTTTTAACGCCACCA...</td>\n",
       "      <td>149</td>\n",
       "    </tr>\n",
       "    <tr>\n",
       "      <th>1</th>\n",
       "      <td>(A, A, T, A, T, T, A, C, A, A, A, C, T, T, G, ...</td>\n",
       "      <td>Spike|hCoV-19/Spain/CN-IBV-97016118/2021|2021-...</td>\n",
       "      <td>Canary Islands</td>\n",
       "      <td>Human</td>\n",
       "      <td>603</td>\n",
       "      <td>0</td>\n",
       "      <td>0</td>\n",
       "      <td>True</td>\n",
       "      <td>AATATTACAAACTTGTGCCCTTTTGGTGAAGTTTTTAACGCCACCA...</td>\n",
       "      <td>150</td>\n",
       "    </tr>\n",
       "    <tr>\n",
       "      <th>2</th>\n",
       "      <td>(A, A, T, A, T, T, A, C, A, A, A, C, T, T, G, ...</td>\n",
       "      <td>Spike|hCoV-19/France/HDF-IPP02628/2021|2021-01...</td>\n",
       "      <td>France</td>\n",
       "      <td>Human</td>\n",
       "      <td>603</td>\n",
       "      <td>0</td>\n",
       "      <td>0</td>\n",
       "      <td>True</td>\n",
       "      <td>AATATTACAAACTTGTGCCCTTTTGGTGAAGTTTTTAACGCCACCA...</td>\n",
       "      <td>150</td>\n",
       "    </tr>\n",
       "    <tr>\n",
       "      <th>5</th>\n",
       "      <td>(A, A, T, A, T, T, A, C, A, A, A, C, T, T, G, ...</td>\n",
       "      <td>Spike|hCoV-19/Canada/QC-L00254708/2020|2020-04...</td>\n",
       "      <td>Canada</td>\n",
       "      <td>Human</td>\n",
       "      <td>603</td>\n",
       "      <td>0</td>\n",
       "      <td>0</td>\n",
       "      <td>True</td>\n",
       "      <td>AATATTACAAACTTGTGCCCTTTTGGTGAAGTTTTTAACGCCACCA...</td>\n",
       "      <td>149</td>\n",
       "    </tr>\n",
       "    <tr>\n",
       "      <th>8</th>\n",
       "      <td>(A, A, T, A, T, T, A, C, A, A, A, C, T, T, G, ...</td>\n",
       "      <td>Spike|hCoV-19/USA/MI-UM-10038285263/2021|2021-...</td>\n",
       "      <td>USA</td>\n",
       "      <td>Human</td>\n",
       "      <td>603</td>\n",
       "      <td>0</td>\n",
       "      <td>0</td>\n",
       "      <td>True</td>\n",
       "      <td>AATATTACAAACTTGTGCCCTTTTGGTGAAGTTTTTAACGCCACCA...</td>\n",
       "      <td>150</td>\n",
       "    </tr>\n",
       "    <tr>\n",
       "      <th>...</th>\n",
       "      <td>...</td>\n",
       "      <td>...</td>\n",
       "      <td>...</td>\n",
       "      <td>...</td>\n",
       "      <td>...</td>\n",
       "      <td>...</td>\n",
       "      <td>...</td>\n",
       "      <td>...</td>\n",
       "      <td>...</td>\n",
       "      <td>...</td>\n",
       "    </tr>\n",
       "    <tr>\n",
       "      <th>24981</th>\n",
       "      <td>(A, A, T, A, T, T, A, C, A, A, A, C, T, T, G, ...</td>\n",
       "      <td>Spike|hCoV-19/Switzerland/GE-33197534/2021|202...</td>\n",
       "      <td>Switzerland</td>\n",
       "      <td>Human</td>\n",
       "      <td>603</td>\n",
       "      <td>0</td>\n",
       "      <td>0</td>\n",
       "      <td>True</td>\n",
       "      <td>AATATTACAAACTTGTGCCCTTTTGGTGAAGTTTTTAACGCCACCA...</td>\n",
       "      <td>149</td>\n",
       "    </tr>\n",
       "    <tr>\n",
       "      <th>24982</th>\n",
       "      <td>(A, A, T, A, T, T, A, C, A, A, A, C, T, T, G, ...</td>\n",
       "      <td>Spike|hCoV-19/Denmark/DCGC-44158/2021|2021-02-...</td>\n",
       "      <td>Denmark</td>\n",
       "      <td>Human</td>\n",
       "      <td>603</td>\n",
       "      <td>0</td>\n",
       "      <td>0</td>\n",
       "      <td>True</td>\n",
       "      <td>AATATTACAAACTTGTGCCCTTTTGGTGAAGTTTTTAACGCCACCA...</td>\n",
       "      <td>150</td>\n",
       "    </tr>\n",
       "    <tr>\n",
       "      <th>24983</th>\n",
       "      <td>(A, A, T, A, T, T, A, C, A, A, A, C, T, T, G, ...</td>\n",
       "      <td>Spike|hCoV-19/Japan/TKYN00044/2020|2020-11-00|...</td>\n",
       "      <td>Japan</td>\n",
       "      <td>Human</td>\n",
       "      <td>603</td>\n",
       "      <td>0</td>\n",
       "      <td>0</td>\n",
       "      <td>True</td>\n",
       "      <td>AATATTACAAACTTGTGCCCTTTTGGTGAAGTTTTTAACGCCACCA...</td>\n",
       "      <td>149</td>\n",
       "    </tr>\n",
       "    <tr>\n",
       "      <th>24984</th>\n",
       "      <td>(A, A, T, A, T, T, A, C, A, A, A, C, T, T, G, ...</td>\n",
       "      <td>Spike|hCoV-19/England/MILK-12619A3/2021|2021-0...</td>\n",
       "      <td>United Kingdom</td>\n",
       "      <td>Human</td>\n",
       "      <td>603</td>\n",
       "      <td>0</td>\n",
       "      <td>0</td>\n",
       "      <td>True</td>\n",
       "      <td>AATATTACAAACTTGTGCCCTTTTGGTGAAGTTTTTAACGCCACCA...</td>\n",
       "      <td>150</td>\n",
       "    </tr>\n",
       "    <tr>\n",
       "      <th>24985</th>\n",
       "      <td>(A, A, T, A, T, T, A, C, A, A, A, C, T, T, G, ...</td>\n",
       "      <td>Spike|hCoV-19/Denmark/DCGC-43520/2021|2021-02-...</td>\n",
       "      <td>Denmark</td>\n",
       "      <td>Human</td>\n",
       "      <td>603</td>\n",
       "      <td>0</td>\n",
       "      <td>0</td>\n",
       "      <td>True</td>\n",
       "      <td>AATATTACAAACTTGTGCCCTTTTGGTGAAGTTTTTAACGCCACCA...</td>\n",
       "      <td>149</td>\n",
       "    </tr>\n",
       "  </tbody>\n",
       "</table>\n",
       "<p>22257 rows × 10 columns</p>\n",
       "</div>"
      ],
      "text/plain": [
       "                                               seqrecord  \\\n",
       "0      (A, A, T, A, T, T, A, C, A, A, A, C, T, T, G, ...   \n",
       "1      (A, A, T, A, T, T, A, C, A, A, A, C, T, T, G, ...   \n",
       "2      (A, A, T, A, T, T, A, C, A, A, A, C, T, T, G, ...   \n",
       "5      (A, A, T, A, T, T, A, C, A, A, A, C, T, T, G, ...   \n",
       "8      (A, A, T, A, T, T, A, C, A, A, A, C, T, T, G, ...   \n",
       "...                                                  ...   \n",
       "24981  (A, A, T, A, T, T, A, C, A, A, A, C, T, T, G, ...   \n",
       "24982  (A, A, T, A, T, T, A, C, A, A, A, C, T, T, G, ...   \n",
       "24983  (A, A, T, A, T, T, A, C, A, A, A, C, T, T, G, ...   \n",
       "24984  (A, A, T, A, T, T, A, C, A, A, A, C, T, T, G, ...   \n",
       "24985  (A, A, T, A, T, T, A, C, A, A, A, C, T, T, G, ...   \n",
       "\n",
       "                                             description         country  \\\n",
       "0      Spike|hCoV-19/Wuhan/WIV04/2019|2019-12-30|EPI_...           China   \n",
       "1      Spike|hCoV-19/Spain/CN-IBV-97016118/2021|2021-...  Canary Islands   \n",
       "2      Spike|hCoV-19/France/HDF-IPP02628/2021|2021-01...          France   \n",
       "5      Spike|hCoV-19/Canada/QC-L00254708/2020|2020-04...          Canada   \n",
       "8      Spike|hCoV-19/USA/MI-UM-10038285263/2021|2021-...             USA   \n",
       "...                                                  ...             ...   \n",
       "24981  Spike|hCoV-19/Switzerland/GE-33197534/2021|202...     Switzerland   \n",
       "24982  Spike|hCoV-19/Denmark/DCGC-44158/2021|2021-02-...         Denmark   \n",
       "24983  Spike|hCoV-19/Japan/TKYN00044/2020|2020-11-00|...           Japan   \n",
       "24984  Spike|hCoV-19/England/MILK-12619A3/2021|2021-0...  United Kingdom   \n",
       "24985  Spike|hCoV-19/Denmark/DCGC-43520/2021|2021-02-...         Denmark   \n",
       "\n",
       "        host  length  n_ambiguous  n_gaps  all_valid_aas  \\\n",
       "0      Human     603            0       0           True   \n",
       "1      Human     603            0       0           True   \n",
       "2      Human     603            0       0           True   \n",
       "5      Human     603            0       0           True   \n",
       "8      Human     603            0       0           True   \n",
       "...      ...     ...          ...     ...            ...   \n",
       "24981  Human     603            0       0           True   \n",
       "24982  Human     603            0       0           True   \n",
       "24983  Human     603            0       0           True   \n",
       "24984  Human     603            0       0           True   \n",
       "24985  Human     603            0       0           True   \n",
       "\n",
       "                                                     seq  n_mutations  \n",
       "0      AATATTACAAACTTGTGCCCTTTTGGTGAAGTTTTTAACGCCACCA...          149  \n",
       "1      AATATTACAAACTTGTGCCCTTTTGGTGAAGTTTTTAACGCCACCA...          150  \n",
       "2      AATATTACAAACTTGTGCCCTTTTGGTGAAGTTTTTAACGCCACCA...          150  \n",
       "5      AATATTACAAACTTGTGCCCTTTTGGTGAAGTTTTTAACGCCACCA...          149  \n",
       "8      AATATTACAAACTTGTGCCCTTTTGGTGAAGTTTTTAACGCCACCA...          150  \n",
       "...                                                  ...          ...  \n",
       "24981  AATATTACAAACTTGTGCCCTTTTGGTGAAGTTTTTAACGCCACCA...          149  \n",
       "24982  AATATTACAAACTTGTGCCCTTTTGGTGAAGTTTTTAACGCCACCA...          150  \n",
       "24983  AATATTACAAACTTGTGCCCTTTTGGTGAAGTTTTTAACGCCACCA...          149  \n",
       "24984  AATATTACAAACTTGTGCCCTTTTGGTGAAGTTTTTAACGCCACCA...          150  \n",
       "24985  AATATTACAAACTTGTGCCCTTTTGGTGAAGTTTTTAACGCCACCA...          149  \n",
       "\n",
       "[22257 rows x 10 columns]"
      ]
     },
     "execution_count": 105,
     "metadata": {},
     "output_type": "execute_result"
    }
   ],
   "source": [
    "rbd_df"
   ]
  },
  {
   "cell_type": "code",
   "execution_count": 106,
   "id": "e63f960a",
   "metadata": {},
   "outputs": [
    {
     "name": "stdout",
     "output_type": "stream",
     "text": [
      "Overall, there are 22257 aligned RBDs that passed filters.\n",
      "Writing alignment to results/GISAID_mutations\\RBD_alignment.fasta\n"
     ]
    }
   ],
   "source": [
    "print(f\"Overall, there are {len(rbd_df)} aligned RBDs that passed filters.\")\n",
    "\n",
    "rbd_alignment_file = os.path.join(config['gisaid_mutations_dir'], 'RBD_alignment.fasta')\n",
    "print(f\"Writing alignment to {rbd_alignment_file}\")\n",
    "_ = Bio.SeqIO.write(rbd_df['seqrecord'].tolist(), rbd_alignment_file, 'fasta')"
   ]
  },
  {
   "cell_type": "code",
   "execution_count": 107,
   "id": "7d0770c9",
   "metadata": {},
   "outputs": [
    {
     "name": "stdout",
     "output_type": "stream",
     "text": [
      "Here are first few lines of mutation counts data frame:\n"
     ]
    },
    {
     "data": {
      "text/html": [
       "<table border=\"1\" class=\"dataframe\">\n",
       "  <thead>\n",
       "    <tr style=\"text-align: right;\">\n",
       "      <th>isite</th>\n",
       "      <th>site</th>\n",
       "      <th>wildtype</th>\n",
       "      <th>mutant</th>\n",
       "      <th>count</th>\n",
       "      <th>n_countries</th>\n",
       "      <th>frequency</th>\n",
       "    </tr>\n",
       "  </thead>\n",
       "  <tbody>\n",
       "    <tr>\n",
       "      <td>6</td>\n",
       "      <td>336</td>\n",
       "      <td>C</td>\n",
       "      <td>T</td>\n",
       "      <td>22257</td>\n",
       "      <td>76</td>\n",
       "      <td>1.0</td>\n",
       "    </tr>\n",
       "    <tr>\n",
       "      <td>189</td>\n",
       "      <td>519</td>\n",
       "      <td>A</td>\n",
       "      <td>T</td>\n",
       "      <td>22257</td>\n",
       "      <td>76</td>\n",
       "      <td>1.0</td>\n",
       "    </tr>\n",
       "    <tr>\n",
       "      <td>391</td>\n",
       "      <td>721</td>\n",
       "      <td>T</td>\n",
       "      <td>C</td>\n",
       "      <td>22257</td>\n",
       "      <td>76</td>\n",
       "      <td>1.0</td>\n",
       "    </tr>\n",
       "    <tr>\n",
       "      <td>171</td>\n",
       "      <td>501</td>\n",
       "      <td>G</td>\n",
       "      <td>A</td>\n",
       "      <td>22257</td>\n",
       "      <td>76</td>\n",
       "      <td>1.0</td>\n",
       "    </tr>\n",
       "    <tr>\n",
       "      <td>405</td>\n",
       "      <td>735</td>\n",
       "      <td>A</td>\n",
       "      <td>G</td>\n",
       "      <td>22257</td>\n",
       "      <td>76</td>\n",
       "      <td>1.0</td>\n",
       "    </tr>\n",
       "    <tr>\n",
       "      <td>415</td>\n",
       "      <td>745</td>\n",
       "      <td>A</td>\n",
       "      <td>T</td>\n",
       "      <td>22257</td>\n",
       "      <td>76</td>\n",
       "      <td>1.0</td>\n",
       "    </tr>\n",
       "    <tr>\n",
       "      <td>416</td>\n",
       "      <td>746</td>\n",
       "      <td>G</td>\n",
       "      <td>C</td>\n",
       "      <td>22257</td>\n",
       "      <td>76</td>\n",
       "      <td>1.0</td>\n",
       "    </tr>\n",
       "    <tr>\n",
       "      <td>438</td>\n",
       "      <td>768</td>\n",
       "      <td>G</td>\n",
       "      <td>T</td>\n",
       "      <td>22257</td>\n",
       "      <td>76</td>\n",
       "      <td>1.0</td>\n",
       "    </tr>\n",
       "    <tr>\n",
       "      <td>294</td>\n",
       "      <td>624</td>\n",
       "      <td>C</td>\n",
       "      <td>T</td>\n",
       "      <td>22257</td>\n",
       "      <td>76</td>\n",
       "      <td>1.0</td>\n",
       "    </tr>\n",
       "    <tr>\n",
       "      <td>126</td>\n",
       "      <td>456</td>\n",
       "      <td>C</td>\n",
       "      <td>A</td>\n",
       "      <td>22257</td>\n",
       "      <td>76</td>\n",
       "      <td>1.0</td>\n",
       "    </tr>\n",
       "    <tr>\n",
       "      <td>447</td>\n",
       "      <td>777</td>\n",
       "      <td>G</td>\n",
       "      <td>T</td>\n",
       "      <td>22257</td>\n",
       "      <td>76</td>\n",
       "      <td>1.0</td>\n",
       "    </tr>\n",
       "    <tr>\n",
       "      <td>450</td>\n",
       "      <td>780</td>\n",
       "      <td>C</td>\n",
       "      <td>T</td>\n",
       "      <td>22257</td>\n",
       "      <td>76</td>\n",
       "      <td>1.0</td>\n",
       "    </tr>\n",
       "    <tr>\n",
       "      <td>456</td>\n",
       "      <td>786</td>\n",
       "      <td>C</td>\n",
       "      <td>T</td>\n",
       "      <td>22257</td>\n",
       "      <td>76</td>\n",
       "      <td>1.0</td>\n",
       "    </tr>\n",
       "    <tr>\n",
       "      <td>114</td>\n",
       "      <td>444</td>\n",
       "      <td>T</td>\n",
       "      <td>A</td>\n",
       "      <td>22257</td>\n",
       "      <td>76</td>\n",
       "      <td>1.0</td>\n",
       "    </tr>\n",
       "    <tr>\n",
       "      <td>480</td>\n",
       "      <td>810</td>\n",
       "      <td>C</td>\n",
       "      <td>T</td>\n",
       "      <td>22257</td>\n",
       "      <td>76</td>\n",
       "      <td>1.0</td>\n",
       "    </tr>\n",
       "  </tbody>\n",
       "</table>"
      ],
      "text/plain": [
       "<IPython.core.display.HTML object>"
      ]
     },
     "metadata": {},
     "output_type": "display_data"
    }
   ],
   "source": [
    "records = []\n",
    "for tup in rbd_df[['seq', 'country']].itertuples():\n",
    "    for isite, (mut, wt) in enumerate(zip(tup.seq, refseq_str), start=1):\n",
    "        if mut != wt:\n",
    "            records.append((isite, isite + config['site_number_offset'], wt, mut, tup.country))\n",
    "            \n",
    "muts_df = (pd.DataFrame.from_records(records,\n",
    "                                     columns=['isite', 'site', 'wildtype', 'mutant', 'country'])\n",
    "           .groupby(['isite', 'site', 'wildtype', 'mutant'])\n",
    "           .aggregate(count=pd.NamedAgg('country', 'count'),\n",
    "                      n_countries=pd.NamedAgg('country', 'nunique'))\n",
    "           .reset_index()\n",
    "           .sort_values('count', ascending=False)\n",
    "           .assign(frequency=lambda x: x['count'] / len(rbd_df))\n",
    "           )\n",
    "\n",
    "print('Here are first few lines of mutation counts data frame:')\n",
    "display(HTML(muts_df.head(n=15).to_html(index=False)))"
   ]
  },
  {
   "cell_type": "code",
   "execution_count": 108,
   "id": "e1a5ab62",
   "metadata": {},
   "outputs": [
    {
     "data": {
      "image/png": "[encoded data removed]",
      "text/plain": [
       "<Figure size 640x480 with 1 Axes>"
      ]
     },
     "metadata": {},
     "output_type": "display_data"
    }
   ],
   "source": [
    "p = (ggplot(muts_df) +\n",
    "     aes('count') +\n",
    "     geom_histogram(bins=20) +\n",
    "     scale_x_log10() +\n",
    "     ylab('number of sequences') +\n",
    "     xlab('times mutation observed')\n",
    "     )\n",
    "\n",
    "_ = p.draw()"
   ]
  },
  {
   "cell_type": "code",
   "execution_count": 109,
   "id": "c4a191c5",
   "metadata": {},
   "outputs": [
    {
     "name": "stdout",
     "output_type": "stream",
     "text": [
      "Writing mutation counts to results/GISAID_mutations\n"
     ]
    }
   ],
   "source": [
    "print(f\"Writing mutation counts to {config['gisaid_mutations_dir']}\")\n",
    "muts_df.to_csv(config['gisaid_mutation_counts'], index=False)"
   ]
  },
  {
   "cell_type": "code",
   "execution_count": null,
   "id": "dbbfd055",
   "metadata": {},
   "outputs": [],
   "source": []
  }
 ],
 "metadata": {
  "kernelspec": {
   "display_name": "Python 3 (ipykernel)",
   "language": "python",
   "name": "python3"
  },
  "language_info": {
   "codemirror_mode": {
    "name": "ipython",
    "version": 3
   },
   "file_extension": ".py",
   "mimetype": "text/x-python",
   "name": "python",
   "nbconvert_exporter": "python",
   "pygments_lexer": "ipython3",
   "version": "3.9.12"
  }
 },
 "nbformat": 4,
 "nbformat_minor": 5
}
